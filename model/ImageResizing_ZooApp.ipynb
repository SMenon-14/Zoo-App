{
  "nbformat": 4,
  "nbformat_minor": 0,
  "metadata": {
    "colab": {
      "name": "ImageResizing-ZooApp.ipynb",
      "provenance": [],
      "authorship_tag": "ABX9TyN06CSuLEl+OuFS7cGUzR8N",
      "include_colab_link": true
    },
    "kernelspec": {
      "name": "python3",
      "display_name": "Python 3"
    },
    "language_info": {
      "name": "python"
    }
  },
  "cells": [
    {
      "cell_type": "markdown",
      "metadata": {
        "id": "view-in-github",
        "colab_type": "text"
      },
      "source": [
        "<a href=\"https://colab.research.google.com/github/SMenon-14/Zoo-App/blob/main/model/ImageResizing_ZooApp.ipynb\" target=\"_parent\"><img src=\"https://colab.research.google.com/assets/colab-badge.svg\" alt=\"Open In Colab\"/></a>"
      ]
    },
    {
      "cell_type": "code",
      "metadata": {
        "id": "ECnEuEfegDjp"
      },
      "source": [
        "from google.colab import drive\n",
        "drive.mount ('/content/gdrive',force_remount=True)\n",
        "print ('hello')"
      ],
      "execution_count": null,
      "outputs": []
    },
    {
      "cell_type": "code",
      "metadata": {
        "id": "DVYdE4zUgdIn"
      },
      "source": [
        "from PIL import Image\n",
        "import os, sys\n",
        "imgCount = 1;\n",
        "animals = [\"African Bullfrog\", \"African Crested Porcupine\", \"African Lungfish\", \"African Painted Dog\", \"African Red-Billed Hornbill\", \"African Rock Python\", \"African Slender-Snouted Crocodile\", \"African Spurred Tortoise\", \"Allen's Swamp Monkey\", \"American Beaver\", \"American Black Bear\", \"Amur Tiger\", \"Asian Elephant\", \"Bald Eagle\", \"Black and White-Ruffed Lemur\", \"Black Rhinoceros\", \"Bontebok\", \"Bufflehead\", \"Bull Trout\", \"California Condor\", \"Cattle Egret\", \"Cheetah\", \"Chimpanzee\", \"Chinook Salmon\", \"Cinnamon Teal\", \"Coho Salmon\", \"Colobus Monkey\", \"Cougar\", \"De Brazza's Monkey\", \"Dwarf Mongoose\", \"Giraffe\", \"Grey Gull\", \"Hadada Ibis\", \"Harbor Seal\", \"Hooded Merganser\", \"Humboldt Penguin\", \"Inca Tern\", \"Lesser Flamingo\", \"Lion\", \"Naked Mole Rat\", \"Nankin Chicken\", \"Northern Pintail\", \"Northern Shoveler\", \"Orangutan\", \"Pacific Lamprey\", \"Polar Bear\", \"Pygmy Goat\", \"Pygora Goat\", \"Rainbow Trout\", \"Red Panda\", \"Red-Crested Pochard\", \"Redhead\", \"Ring-Tailed Lemur\", \"Ringtail\", \"River Otter\", \"Rocky Mountain Goat\", \"Rodrigues Flying Fox\", \"Sacred Ibis\", \"Southern Ground Hornbill\", \"Southern Sea Otter\", \"Speke's Gazelle\", \"Straw-Colored Fruit Bat\", \"Veiled Chameleon\", \"Western Painted Turtle\", \"White Sturgeon\", \"White-Cheeked Gibbon\", \"White-Faced Whistling Duck\", \"Wood Duck\"]\n",
        "for item in animals:\n",
        "  imgCount = 1;\n",
        "  os.chdir('/content/gdrive/My Drive/ZooApp/Images/Training/'+item)\n",
        "  for root, dirs, files in os.walk(\".\"):\n",
        "    for filename in files:\n",
        "      print(filename)\n",
        "      print(imgCount)\n",
        "      im = Image.open(filename)\n",
        "      f, e = os.path.splitext(filename)\n",
        "      imResize=im.resize((244, 244), Image.ANTIALIAS)\n",
        "      imResize.save( 'A' + str(imgCount) + ' - ' + item +'.jpg', 'JPEG', quality=90)\n",
        "      print('SavedImages')\n",
        "      imgCount=imgCount+1"
      ],
      "execution_count": null,
      "outputs": []
    }
  ]
}